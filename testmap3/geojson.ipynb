{
 "cells": [
  {
   "cell_type": "code",
   "execution_count": 64,
   "metadata": {},
   "outputs": [],
   "source": [
    "import pandas as pd\n",
    "import geopandas as gpd\n",
    "import censusdata"
   ]
  },
  {
   "cell_type": "code",
   "execution_count": 158,
   "metadata": {},
   "outputs": [],
   "source": [
    "geo3 = gpd.read_file(\"2010 Census Tracts.geojson\")"
   ]
  },
  {
   "cell_type": "code",
   "execution_count": 163,
   "metadata": {},
   "outputs": [],
   "source": [
    "# data: https://data.cityofnewyork.us/City-Government/2010-Census-Tracts/fxpq-c8ku"
   ]
  },
  {
   "cell_type": "code",
   "execution_count": 74,
   "metadata": {},
   "outputs": [],
   "source": [
    "geo2 = gpd.read_file(\"https://services5.arcgis.com/GfwWNkhOj9bNBqoJ/\\\n",
    "arcgis/rest/services/NYC_Census_Tracts_for_2010_US_Census_Water_Included/\\\n",
    "FeatureServer/0/query?where=1=1&outFields=*&outSR=4326&f=pgeojson\")"
   ]
  },
  {
   "cell_type": "code",
   "execution_count": 65,
   "metadata": {},
   "outputs": [],
   "source": [
    "geo = gpd.read_file(\"gz_2010_36_140_00_500k/gz_2010_36_140_00_500k.shp\")"
   ]
  },
  {
   "cell_type": "code",
   "execution_count": 90,
   "metadata": {},
   "outputs": [
    {
     "data": {
      "text/plain": [
       "(2168, 13)"
      ]
     },
     "execution_count": 90,
     "metadata": {},
     "output_type": "execute_result"
    }
   ],
   "source": [
    "geo2.shape"
   ]
  },
  {
   "cell_type": "code",
   "execution_count": 23,
   "metadata": {},
   "outputs": [],
   "source": [
    "# Get population estimates from census\n",
    "\n",
    "pd.set_option('display.expand_frame_repr', False)\n",
    "pd.set_option('display.precision', 2)\n",
    "\n",
    "pop = censusdata.download('acs5', 2019, censusdata.censusgeo([('state', '36'), ('county', '*'), ('tract', '*')]),['B01003_001E','GEO_ID'])\n",
    "pop = pop[['GEO_ID','B01003_001E']].rename(columns = {'B01003_001E':'total_pop'})\n",
    "pop['county_tract'] = pop['GEO_ID'].str.slice(start =11, stop = 20)\n",
    "pop['state_county_tract'] = pop['GEO_ID'].str.slice(start =9, stop = 20)\n",
    "pop_clean = pop.drop(['GEO_ID'], axis = 1).reset_index(drop = True)\n"
   ]
  },
  {
   "cell_type": "code",
   "execution_count": 145,
   "metadata": {},
   "outputs": [],
   "source": [
    "pop_clean = pop.reset_index(drop = True)\n",
    "pop_clean['CT2010'] = pop_clean.county_tract.str.slice(start=3,stop=11)\n",
    "pop_clean['County'] = pop_clean.county_tract.str.slice(start=0,stop=3)"
   ]
  },
  {
   "cell_type": "code",
   "execution_count": 150,
   "metadata": {},
   "outputs": [],
   "source": [
    "pop_clean.loc[pop_clean.County == \"005\",'County'] = \"2\"\n",
    "pop_clean.loc[pop_clean.County == \"061\",'County'] = \"1\"\n",
    "pop_clean.loc[pop_clean.County == \"047\",'County'] = \"3\"\n",
    "pop_clean.loc[pop_clean.County == \"081\",'County'] = \"4\"\n",
    "pop_clean.loc[pop_clean.County == \"085\",'County'] = \"5\"\n",
    "\n",
    "pop_clean['BoroCT2010'] = pop_clean['County'] + pop_clean['CT2010']"
   ]
  },
  {
   "cell_type": "code",
   "execution_count": 151,
   "metadata": {},
   "outputs": [],
   "source": [
    "test2 = geo2.merge(pop_clean, on = \"BoroCT2010\")"
   ]
  },
  {
   "cell_type": "code",
   "execution_count": 160,
   "metadata": {},
   "outputs": [],
   "source": [
    "test3 = geo3.merge(pop_clean, left_on = \"boro_ct2010\", right_on = \"BoroCT2010\")"
   ]
  },
  {
   "cell_type": "code",
   "execution_count": 162,
   "metadata": {},
   "outputs": [
    {
     "data": {
      "text/plain": [
       "(2165, 20)"
      ]
     },
     "execution_count": 162,
     "metadata": {},
     "output_type": "execute_result"
    }
   ],
   "source": [
    "test3.shape"
   ]
  },
  {
   "cell_type": "code",
   "execution_count": 156,
   "metadata": {},
   "outputs": [
    {
     "data": {
      "text/plain": [
       "(4898, 15)"
      ]
     },
     "execution_count": 156,
     "metadata": {},
     "output_type": "execute_result"
    }
   ],
   "source": [
    "test.shape"
   ]
  },
  {
   "cell_type": "code",
   "execution_count": 153,
   "metadata": {},
   "outputs": [
    {
     "data": {
      "text/plain": [
       "(2167, 20)"
      ]
     },
     "execution_count": 153,
     "metadata": {},
     "output_type": "execute_result"
    }
   ],
   "source": [
    "test2.shape"
   ]
  },
  {
   "cell_type": "code",
   "execution_count": 86,
   "metadata": {},
   "outputs": [
    {
     "data": {
      "text/html": [
       "<div>\n",
       "<style scoped>\n",
       "    .dataframe tbody tr th:only-of-type {\n",
       "        vertical-align: middle;\n",
       "    }\n",
       "\n",
       "    .dataframe tbody tr th {\n",
       "        vertical-align: top;\n",
       "    }\n",
       "\n",
       "    .dataframe thead th {\n",
       "        text-align: right;\n",
       "    }\n",
       "</style>\n",
       "<table border=\"1\" class=\"dataframe\">\n",
       "  <thead>\n",
       "    <tr style=\"text-align: right;\">\n",
       "      <th></th>\n",
       "      <th>GEO_ID</th>\n",
       "      <th>STATE</th>\n",
       "      <th>COUNTY</th>\n",
       "      <th>TRACT</th>\n",
       "      <th>NAME</th>\n",
       "      <th>LSAD</th>\n",
       "      <th>CENSUSAREA</th>\n",
       "      <th>geometry</th>\n",
       "      <th>total_pop</th>\n",
       "      <th>county_tract</th>\n",
       "      <th>state_county_tract</th>\n",
       "    </tr>\n",
       "  </thead>\n",
       "  <tbody>\n",
       "    <tr>\n",
       "      <th>4715</th>\n",
       "      <td>1400000US36103170101</td>\n",
       "      <td>36</td>\n",
       "      <td>103</td>\n",
       "      <td>170101</td>\n",
       "      <td>1701.01</td>\n",
       "      <td>Tract</td>\n",
       "      <td>0.96</td>\n",
       "      <td>POLYGON ((-72.37235 41.10078, -72.37218 41.100...</td>\n",
       "      <td>2082</td>\n",
       "      <td>103170101</td>\n",
       "      <td>36103170101</td>\n",
       "    </tr>\n",
       "  </tbody>\n",
       "</table>\n",
       "</div>"
      ],
      "text/plain": [
       "                    GEO_ID STATE COUNTY   TRACT     NAME   LSAD  CENSUSAREA                                           geometry  total_pop county_tract state_county_tract\n",
       "4715  1400000US36103170101    36    103  170101  1701.01  Tract        0.96  POLYGON ((-72.37235 41.10078, -72.37218 41.100...       2082    103170101        36103170101"
      ]
     },
     "execution_count": 86,
     "metadata": {},
     "output_type": "execute_result"
    }
   ],
   "source": [
    "test[test.county_tract == \"103170101\"].head(2)"
   ]
  },
  {
   "cell_type": "code",
   "execution_count": 155,
   "metadata": {},
   "outputs": [],
   "source": [
    "test = geo.merge(pop_clean, on=\"GEO_ID\")"
   ]
  },
  {
   "cell_type": "code",
   "execution_count": 69,
   "metadata": {},
   "outputs": [],
   "source": [
    "test[test.COUNTY.isin(['005','061','047','081','085'])].to_file(\"test.json\", driver=\"GeoJSON\")"
   ]
  },
  {
   "cell_type": "code",
   "execution_count": 157,
   "metadata": {},
   "outputs": [],
   "source": [
    "test2.to_file(\"test2.json\", driver=\"GeoJSON\")"
   ]
  },
  {
   "cell_type": "code",
   "execution_count": 161,
   "metadata": {},
   "outputs": [],
   "source": [
    "test3.to_file(\"test3.json\", driver=\"GeoJSON\")"
   ]
  },
  {
   "cell_type": "code",
   "execution_count": null,
   "metadata": {},
   "outputs": [],
   "source": []
  }
 ],
 "metadata": {
  "kernelspec": {
   "display_name": "Python 3",
   "language": "python",
   "name": "python3"
  },
  "language_info": {
   "codemirror_mode": {
    "name": "ipython",
    "version": 3
   },
   "file_extension": ".py",
   "mimetype": "text/x-python",
   "name": "python",
   "nbconvert_exporter": "python",
   "pygments_lexer": "ipython3",
   "version": "3.8.5"
  }
 },
 "nbformat": 4,
 "nbformat_minor": 4
}
