{
 "cells": [
  {
   "cell_type": "code",
   "execution_count": 106,
   "metadata": {},
   "outputs": [],
   "source": [
    "import pandas as pd\n",
    "import numpy as np\n",
    "import geopandas\n",
    "from geopy import distance\n",
    "import censusgeocode as cg\n",
    "import censusdata\n",
    "\n",
    "from multiprocessing import Pool\n",
    "from itertools import repeat"
   ]
  },
  {
   "cell_type": "code",
   "execution_count": 502,
   "metadata": {},
   "outputs": [],
   "source": [
    "# Read in the bagel geolocated data\n",
    "\n",
    "final_bagel_data_geo = pd.read_pickle(\"final_bagel_data_geo.pkl\")"
   ]
  },
  {
   "cell_type": "code",
   "execution_count": 604,
   "metadata": {},
   "outputs": [],
   "source": [
    "# Use FCC API to extract information for each lat/long and its associated census tract\n",
    "\n",
    "census_tracts = []\n",
    "\n",
    "for index, row in final_bagel_data_geo.iterrows():\n",
    "    \n",
    "    lat = pd.to_numeric(row['lat_gmap'])\n",
    "    lng = pd.to_numeric(row['lng_gmap'])\n",
    "    url = 'https://geo.fcc.gov/api/census/block/find?latitude={}&longitude={}5&format=json'.format(lat,lng)\n",
    "    response = requests.get(url)\n",
    "    data = response.json()['Block']['FIPS']\n",
    "    df = pd.DataFrame({'lng_gmap': [lng],'lat_gmap':[lat], 'fips':[data]})\n",
    "    census_tracts.append(df)"
   ]
  },
  {
   "cell_type": "code",
   "execution_count": 610,
   "metadata": {},
   "outputs": [],
   "source": [
    "# Concat information about census\n",
    "\n",
    "census_tracts_clean = pd.concat(census_tracts).drop_duplicates()"
   ]
  },
  {
   "cell_type": "code",
   "execution_count": 612,
   "metadata": {},
   "outputs": [],
   "source": [
    "# Merge the clean census data\n",
    "\n",
    "final_bagel_data_geo_clean = final_bagel_data_geo\\\n",
    ".merge(census_tracts_clean, on = ['lat_gmap','lng_gmap'], how = \"left\")\n",
    "\n",
    "final_bagel_data_geo_clean['county_tract_bagel'] = final_bagel_data_geo_clean.fips.str.slice(start = 2, stop =11)"
   ]
  },
  {
   "cell_type": "code",
   "execution_count": 616,
   "metadata": {},
   "outputs": [],
   "source": [
    "# Read in the census tract information and the centroids for each census tract\n",
    "\n",
    "tract_cen = pd.read_csv(\"https://www2.census.gov/geo/docs/reference/cenpop2010/tract/CenPop2010_Mean_TR36.txt\", dtype = \"object\")"
   ]
  },
  {
   "cell_type": "code",
   "execution_count": 617,
   "metadata": {},
   "outputs": [],
   "source": [
    "# Keep only NYC census tracts\n",
    "\n",
    "tract_cen_nyc = tract_cen[tract_cen.COUNTYFP.isin(['005','047','061','081','085'])].reset_index(drop = True)\n",
    "tract_cen_nyc['county_tract'] = tract_cen_nyc['COUNTYFP'] + tract_cen_nyc['TRACTCE']\n",
    "tract_cen_nyc['LONGITUDE'] = pd.to_numeric(\"-\" + tract_cen_nyc['LONGITUDE'].str[2:])\n",
    "tract_cen_nyc['LATITUDE'] = pd.to_numeric(tract_cen_nyc['LATITUDE'])"
   ]
  },
  {
   "cell_type": "code",
   "execution_count": 629,
   "metadata": {},
   "outputs": [],
   "source": [
    "# Function to find distance to all bagel shops from the centroid of each census tract\n",
    "# Note, this can be improved, this takes a while to run\n",
    "\n",
    "tract_cen_bagels = pd.DataFrame()\n",
    "\n",
    "for tract in tract_cen_nyc.county_tract:\n",
    "    df = final_bagel_data_geo_clean.copy()\n",
    "    df['lat_nyc'] = tract_cen_nyc[tract_cen_nyc.county_tract == tract]['LATITUDE'].values[0]\n",
    "    df['lng_nyc'] = tract_cen_nyc[tract_cen_nyc.county_tract == tract]['LONGITUDE'].values[0]\n",
    "    df['county_tract'] =  tract\n",
    "    df['dist'] =  df.apply(lambda row: distance.distance((row.lat_nyc, row.lng_nyc),\\\n",
    "                                       (row.lat_gmap, row.lng_gmap))\\\n",
    "                                       .miles, axis=1)\n",
    "    \n",
    "    tract_cen_bagels = tract_cen_bagels.append(df).reset_index(drop = True)"
   ]
  },
  {
   "cell_type": "code",
   "execution_count": 620,
   "metadata": {},
   "outputs": [],
   "source": [
    "# Get population estimates from census for 2019\n",
    "\n",
    "pd.set_option('display.expand_frame_repr', False)\n",
    "pd.set_option('display.precision', 2)\n",
    "\n",
    "pop = censusdata.download('acs5', 2019, censusdata.censusgeo([('state', '36'), ('county', '*'), ('tract', '*')]),['B01003_001E','GEO_ID'])\n",
    "pop = pop[['GEO_ID','B01003_001E']].rename(columns = {'B01003_001E':'total_pop'})\n",
    "pop['county_tract'] = pop['GEO_ID'].str.slice(start =11, stop = 20)\n",
    "pop['state_county_tract'] = pop['GEO_ID'].str.slice(start =9, stop = 20)\n",
    "pop_clean = pop.drop(['GEO_ID'], axis = 1).reset_index(drop = True)"
   ]
  },
  {
   "cell_type": "code",
   "execution_count": 716,
   "metadata": {},
   "outputs": [],
   "source": [
    "# Source: https://www.census.gov/geographies/reference-files/time-series/geo/gazetteer-files.2019.html\n",
    "# 2019 file is based on 2010 census\n",
    "\n",
    "area = pd.read_csv(\"https://www2.census.gov/geo/docs/maps-data/data/gazetteer/2019_Gazetteer/2019_gaz_tracts_36.txt\", dtype = \"object\", sep =\"\\t\")"
   ]
  },
  {
   "cell_type": "code",
   "execution_count": 724,
   "metadata": {},
   "outputs": [],
   "source": [
    "# Combine data to get per capita\n",
    "# May want to consider not letting manhattan census tracts be assigned any brooklyn or queens bagel shops\n",
    "# The threshold is is the distanc must be below 0.6 miles\n",
    "\n",
    "tract_cen_bagels_clean = tract_cen_bagels[(tract_cen_bagels.county_tract_bagel == tract_cen_bagels.county_tract) | (tract_cen_bagels.dist <0.6)]\\\n",
    "    [['county_tract','name']]\\\n",
    "    .merge(tract_cen_nyc[['county_tract']], on = 'county_tract', how = 'right')\\\n",
    "    .groupby(['county_tract'])\\\n",
    "    .count()\\\n",
    "    .sort_values(['name'], ascending = False)\\\n",
    "    .merge(pop_clean, on = \"county_tract\", how = \"left\")\\\n",
    "    .rename(columns = {'name':'count_bagel_shops'})\\\n",
    "    .merge(area[['GEOID','ALAND_SQMI']], left_on = 'state_county_tract', right_on = 'GEOID', how = 'left')\\\n",
    "    .drop(['GEOID'], axis = 1)"
   ]
  },
  {
   "cell_type": "code",
   "execution_count": 725,
   "metadata": {},
   "outputs": [],
   "source": [
    "# Get the bagel per capita estimates\n",
    "\n",
    "tract_cen_bagels_clean['bagel_per_capita'] = tract_cen_bagels_clean['count_bagel_shops']/tract_cen_bagels_clean['total_pop']*1000\n",
    "tract_cen_bagels_clean['bagel_per_capita_sq'] = np.sqrt(tract_cen_bagels_clean['bagel_per_capita'])"
   ]
  },
  {
   "cell_type": "code",
   "execution_count": 700,
   "metadata": {},
   "outputs": [
    {
     "data": {
      "text/plain": [
       "<AxesSubplot:>"
      ]
     },
     "execution_count": 700,
     "metadata": {},
     "output_type": "execute_result"
    },
    {
     "data": {
      "image/png": "[encoded data removed]",
      "text/plain": [
       "<Figure size 432x288 with 1 Axes>"
      ]
     },
     "metadata": {
      "needs_background": "light"
     },
     "output_type": "display_data"
    }
   ],
   "source": [
    "# Look at the distribution of total populations\n",
    "\n",
    "tract_cen_bagels_clean.total_pop.hist(bins=100)"
   ]
  },
  {
   "cell_type": "code",
   "execution_count": 731,
   "metadata": {},
   "outputs": [
    {
     "data": {
      "text/plain": [
       "<AxesSubplot:>"
      ]
     },
     "execution_count": 731,
     "metadata": {},
     "output_type": "execute_result"
    },
    {
     "data": {
      "image/png": "[encoded data removed]",
      "text/plain": [
       "<Figure size 432x288 with 1 Axes>"
      ]
     },
     "metadata": {
      "needs_background": "light"
     },
     "output_type": "display_data"
    }
   ],
   "source": [
    "tract_cen_bagels_clean.ALAND_SQMI.hist()"
   ]
  },
  {
   "cell_type": "code",
   "execution_count": null,
   "metadata": {},
   "outputs": [],
   "source": [
    "# Look at one example of a high bagel shop per capita\n",
    "\n",
    "tract_cen_bagels[((tract_cen_bagels.county_tract_bagel == tract_cen_bagels.county_tract) | (tract_cen_bagels.dist <0.6)) \\\n",
    "                 & (tract_cen_bagels.county_tract == \"047054300\")].reset_index()"
   ]
  },
  {
   "cell_type": "code",
   "execution_count": 736,
   "metadata": {},
   "outputs": [
    {
     "data": {
      "text/plain": [
       "<AxesSubplot:xlabel='total_pop', ylabel='count_bagel_shops'>"
      ]
     },
     "execution_count": 736,
     "metadata": {},
     "output_type": "execute_result"
    },
    {
     "data": {
      "image/png": "[encoded data removed]",
      "text/plain": [
       "<Figure size 432x288 with 1 Axes>"
      ]
     },
     "metadata": {
      "needs_background": "light"
     },
     "output_type": "display_data"
    }
   ],
   "source": [
    "tract_cen_bagels_clean.plot.scatter(y='count_bagel_shops',\n",
    "                      x='total_pop',\n",
    "                      c='DarkBlue')"
   ]
  },
  {
   "cell_type": "code",
   "execution_count": 707,
   "metadata": {},
   "outputs": [],
   "source": [
    "tract_cen_bagels_clean[tract_cen_bagels_clean.total_pop > 100].to_csv(\"tract_cen_bagels_clean.csv\", index = False)"
   ]
  }
 ],
 "metadata": {
  "kernelspec": {
   "display_name": "Python 3",
   "language": "python",
   "name": "python3"
  },
  "language_info": {
   "codemirror_mode": {
    "name": "ipython",
    "version": 3
   },
   "file_extension": ".py",
   "mimetype": "text/x-python",
   "name": "python",
   "nbconvert_exporter": "python",
   "pygments_lexer": "ipython3",
   "version": "3.8.5"
  }
 },
 "nbformat": 4,
 "nbformat_minor": 4
}
